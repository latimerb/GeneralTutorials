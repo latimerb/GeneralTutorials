{
 "cells": [
  {
   "cell_type": "markdown",
   "metadata": {},
   "source": [
    "# BLA Pyramidal Cell LFP\n",
    "In this notebook we will investigate the contributions to the LFP of a stylized pyramidal cell from BLA. We will provide rhythmic synaptic input and compare the outcome to the detailed morphological reconstruction."
   ]
  },
  {
   "cell_type": "code",
   "execution_count": 1,
   "metadata": {},
   "outputs": [
    {
     "name": "stdout",
     "output_type": "stream",
     "text": [
      "Populating the interactive namespace from numpy and matplotlib\n",
      "Failed to setup nrnpy_pr\n"
     ]
    },
    {
     "name": "stderr",
     "output_type": "stream",
     "text": [
      "/home/ben/anaconda2/lib/python2.7/site-packages/h5py/__init__.py:36: FutureWarning: Conversion of the second argument of issubdtype from `float` to `np.floating` is deprecated. In future, it will be treated as `np.float64 == np.dtype(float).type`.\n",
      "  from ._conv import register_converters as _register_converters\n"
     ]
    }
   ],
   "source": [
    "%pylab inline\n",
    "import LFPy\n",
    "import scipy\n",
    "numpy.random.seed(12512)"
   ]
  },
  {
   "cell_type": "markdown",
   "metadata": {},
   "source": [
    "# Create cell"
   ]
  },
  {
   "cell_type": "code",
   "execution_count": 2,
   "metadata": {},
   "outputs": [],
   "source": [
    "cellParameters = {\n",
    "    'morphology' : 'class_Henckens_AM-C1A.hoc',\n",
    "    'tstart' : -50,\n",
    "    'tstop' : 500,\n",
    "    'dt' : 2**-4,\n",
    "    'passive': False,\n",
    "    'nsegs_method': 'fixed_length',\n",
    "    'max_nsegs_length':5\n",
    "}\n",
    "\n",
    "SynapseParameters = {\n",
    "    'syntype' : 'Exp2Syn',\n",
    "    'e' : -40,\n",
    "    'tau1' : 1.0,\n",
    "    'tau2' : 3.0,\n",
    "    'weight' : 0.006,\n",
    "    'record_current' : True,\n",
    "}\n",
    "\n",
    "\n",
    "# Define electrode parameters\n",
    "# Create a grid of measurement locations, in (mum)\n",
    "X, Z = np.mgrid[-1900:1451:50, -1650:1651:50]\n",
    "Y = np.zeros(X.shape)\n",
    "electrodeParameters = {\n",
    "    'sigma' : 0.3,      # extracellular conductivity\n",
    "    'x' : X.flatten(),  # electrode requires 1d vector of positions\n",
    "    'y' : Y.flatten(),\n",
    "    'z' : Z.flatten()\n",
    "}"
   ]
  },
  {
   "cell_type": "code",
   "execution_count": 3,
   "metadata": {},
   "outputs": [],
   "source": [
    "# Create cell and print the variables belonging to it.\n",
    "cell = LFPy.Cell(**cellParameters)\n",
    "cell.set_pos(x=-250, y=0, z=0)\n",
    "cell.set_rotation(z=np.pi,x=np.pi/2)\n",
    "\n",
    "#from pprint import pprint\n",
    "#print(pprint(vars(cell)))"
   ]
  },
  {
   "cell_type": "markdown",
   "metadata": {},
   "source": [
    "# Add Synapses\n",
    "Now we will place the synapses along the apical dendrite. "
   ]
  },
  {
   "cell_type": "code",
   "execution_count": 4,
   "metadata": {},
   "outputs": [],
   "source": [
    "num_syns = 1\n",
    "\n",
    "insert_synapses_AMPA_args = {\n",
    "    'section' : 'dend[0]',\n",
    "    'n' : num_syns,\n",
    "    'spTimesFun' : LFPy.inputgenerators.get_activation_times_from_distribution,\n",
    "    'args' : dict(n=1, tstart=0, tstop=cellParameters['tstop'],\n",
    "                  distribution=scipy.stats.poisson,\n",
    "                  rvs_args=dict(mu=500.0)\n",
    "                  )\n",
    "}\n",
    "\n",
    "wgts = []\n",
    "\n",
    "def insert_synapses(synparams, section, n, spTimesFun, args):\n",
    "    '''find n compartments to insert synapses onto'''\n",
    "    spk_times_save = []\n",
    "    idx = cell.get_rand_idx_area_norm(section=section, nidx=n)\n",
    "    \n",
    "    mu_wgt = synparams['weight']\n",
    "    #Insert synapses in an iterative fashion\n",
    "    for i in idx:\n",
    "  \n",
    "        # make synaptic weights vary around the mean\n",
    "        rand_wgt = numpy.random.normal(mu_wgt,mu_wgt/10)\n",
    "        synparams['weight'] = rand_wgt\n",
    "        wgts.append(synparams['weight'])\n",
    "        synparams.update({'idx' : int(i)})\n",
    "        \n",
    "        # Some input spike train using the function call\n",
    "        [spiketimes] = spTimesFun(**args)\n",
    "\n",
    "        # Create synapse(s) and setting times using the Synapse class in LFPy\n",
    "        s = LFPy.Synapse(cell, **synparams)\n",
    "        s.set_spike_times(spiketimes)\n",
    "\n",
    "        spk_times_save.append(spiketimes)\n",
    "        \n",
    "    return spk_times_save\n",
    "\n",
    "# Synapse\n",
    "synapse = LFPy.Synapse(cell,\n",
    "                       idx = cell.get_closest_idx(x=-250,z=0),\n",
    "                       **SynapseParameters)\n",
    "\n",
    "# Synapse will be applied at 50 ms\n",
    "synapse.set_spike_times(array([400])) \n",
    "\n",
    "#syn_spike_times = insert_synapses(SynapseParameters,**insert_synapses_AMPA_args)\n",
    "\n",
    "# Set electrode\n",
    "electrode = LFPy.RecExtElectrode(**electrodeParameters)"
   ]
  },
  {
   "cell_type": "markdown",
   "metadata": {},
   "source": [
    "# Simulate\n",
    "First is a function to record the dendrite membrane potential."
   ]
  },
  {
   "cell_type": "code",
   "execution_count": 5,
   "metadata": {},
   "outputs": [],
   "source": [
    "import neuron\n",
    "def record_dend(Cell):\n",
    "    \"\"\"\n",
    "    Record membrane potentials for dend segments\n",
    "    \"\"\"\n",
    "    dendvreclist = neuron.h.List()\n",
    "    for sec in Cell.allseclist:\n",
    "        if ~sec.name().find('dend'):\n",
    "            memvrec = neuron.h.Vector(int(Cell.tstop / Cell.dt+1))\n",
    "            memvrec.record(sec(0.5)._ref_v, Cell.dt)\n",
    "            dendvreclist.append(memvrec)\n",
    "    return dendvreclist\n",
    "dendvreclist = record_dend(cell)\n",
    "\n",
    "cell.simulate(electrode=electrode,rec_imem=True,rec_ipas=True,rec_icap=True,rec_vmem=True)"
   ]
  },
  {
   "cell_type": "markdown",
   "metadata": {},
   "source": [
    "# Plot results\n",
    "Figure 1 is a plot of the geometry of the cell, the location of the electrodes, location of the synapses, and the extracellular potential."
   ]
  },
  {
   "cell_type": "code",
   "execution_count": null,
   "metadata": {},
   "outputs": [],
   "source": [
    "figure(figsize=(15, 10))\n",
    "#subplot(2,3,4)\n",
    "\n",
    "\n",
    "\n",
    "# Plot geometry of the cell\n",
    "for sec in LFPy.cell.neuron.h.allsec():\n",
    "    idx = cell.get_idx(sec.name())\n",
    "    ax1=subplot(1,2,1)\n",
    "    if sec.name()==\"soma[0]\":\n",
    "        plot(np.r_[cell.xstart[idx], cell.xend[idx][-1]],\n",
    "            np.r_[cell.zstart[idx], cell.zend[idx][-1]],\n",
    "            'k',linewidth=8)\n",
    "    else:\n",
    "        plot(np.r_[cell.xstart[idx], cell.xend[idx][-1]],\n",
    "            np.r_[cell.zstart[idx], cell.zend[idx][-1]],\n",
    "            'k',linewidth=2)\n",
    "        \n",
    "    ax2=subplot(1,2,2)\n",
    "    if sec.name()==\"soma[0]\":\n",
    "        plot(np.r_[cell.xstart[idx], cell.xend[idx][-1]],\n",
    "            np.r_[cell.ystart[idx], cell.yend[idx][-1]],\n",
    "            'k',linewidth=8)\n",
    "    else:\n",
    "        plot(np.r_[cell.xstart[idx], cell.xend[idx][-1]],\n",
    "            np.r_[cell.ystart[idx], cell.yend[idx][-1]],\n",
    "            'k',linewidth=2)\n",
    "# Plot synapses as red dots\n",
    "for i in np.arange(0,num_syns):\n",
    "    subplot(1,2,1)\n",
    "    plot([cell.synapses[i].x], [cell.synapses[i].z], color=[1,0,0], marker='o', markersize=5)\n",
    "    subplot(1,2,2)\n",
    "    plot([cell.synapses[i].x], [cell.synapses[i].y], color=[1,0,0], marker='o', markersize=5)\n",
    "# Plot electrodes as green dots\n",
    "#plot(electrode.x, electrode.z, '.', marker='o', color='g',label='electrodes')\n",
    "#for i in np.arange(0,electrode.x.shape[0]):\n",
    "#    plt.text(electrode.x[i]+10,electrode.z[i]-5,'{}'.format(i))\n",
    "\n",
    "xlabel('distance (um)')\n",
    "ylabel('distance (um)')\n",
    "#ax1.set_ylim(-100,100)\n",
    "#ax1.set_xlim(-300,-200)\n",
    "#ax2.set_ylim(-400,300)\n",
    "#ax2.set_xlim(-500,0)\n",
    "\n",
    "legend()\n",
    "\n",
    "        \n",
    "#### Calculate extracellular potential by hand\n",
    "'''\n",
    "# electrode 5 is at 0,100\n",
    "h = np.zeros((5,1))\n",
    "l = np.zeros((5,1))\n",
    "r = np.zeros((5,1))\n",
    "\n",
    "for i in np.arange(0,5):\n",
    "    h[i,0] = electrode.z[5]-cell.zend[i]\n",
    "    l[i,0] = electrode.z[5]-cell.zstart[i]\n",
    "    r[i,0] = electrode.x[5]-cell.xstart[i]\n",
    "\n",
    "dist = np.log((np.sqrt(h**2+r**2)-h)/(np.sqrt(l**2+r**2)-l))\n",
    "v_ext=1000*(1/(4*np.pi*300*5))*np.dot(np.transpose(cell.imem),dist)\n",
    "'''\n"
   ]
  },
  {
   "cell_type": "code",
   "execution_count": null,
   "metadata": {},
   "outputs": [],
   "source": [
    "from utils import plot_ex2,plot_elec_grid\n",
    "fig = plot_elec_grid(cell,electrode)\n",
    "#fig.savefig('detailedpyrsynapseelecs.svg')"
   ]
  },
  {
   "cell_type": "code",
   "execution_count": 6,
   "metadata": {},
   "outputs": [
    {
     "data": {
      "image/png": "[encoded data removed]",
      "text/plain": [
       "<Figure size 360x360 with 1 Axes>"
      ]
     },
     "metadata": {},
     "output_type": "display_data"
    }
   ],
   "source": [
    "from utils import plot_ex1, plot_vmem_heat\n",
    "#fig = plot_ex2(cell, electrode, X, Y, Z, time_show=[50,51,52,53,54,55])\n",
    "#zoom1=[-450,0,-200,500]\n",
    "fig = plot_ex1(cell, electrode, X, Y, Z, time_show=[402], space_lim = [-1450,1000,-1300,1500])\n",
    "fig.savefig('AM-C1A_LFP_zoom2.svg')"
   ]
  },
  {
   "cell_type": "code",
   "execution_count": null,
   "metadata": {},
   "outputs": [],
   "source": [
    "print(dendvreclist.count())\n",
    "plot(cell.tvec,cell.somav)\n",
    "#ylim(-72,-70)"
   ]
  },
  {
   "cell_type": "markdown",
   "metadata": {},
   "source": [
    "## Visualize synaptic inputs\n",
    "Let's get an idea of what the synaptic spike times look like. First we need to convert the spike times to a one dimensional array."
   ]
  },
  {
   "cell_type": "code",
   "execution_count": null,
   "metadata": {},
   "outputs": [],
   "source": [
    "st_1darr = np.zeros((100000,))\n",
    "\n",
    "start = 0\n",
    "stop = syn_spike_times[0].shape[0]\n",
    "for i in np.arange(0,len(syn_spike_times)-1):\n",
    "    st_1darr[start:stop] = syn_spike_times[i]\n",
    "    start = stop\n",
    "    stop = start + syn_spike_times[i+1].shape[0]"
   ]
  },
  {
   "cell_type": "code",
   "execution_count": null,
   "metadata": {},
   "outputs": [],
   "source": [
    "n_bins = cellParameters['tstop']/10\n",
    "\n",
    "time = np.arange(0,cellParameters['tstop'],cellParameters['tstop']/n_bins)\n",
    "figure(figsize=(12,12))\n",
    "X=np.histogram(st_1darr[st_1darr!=0],bins=n_bins)\n",
    "\n",
    "for i in np.arange(0,len(syn_spike_times)):    \n",
    "    subplot(2,1,1)\n",
    "    plot(syn_spike_times[i],np.tile(i, syn_spike_times[i].shape[0]),'b.')\n",
    "\n",
    "ylabel('cell ID')\n",
    "xlabel('time(ms)')\n",
    "xlim(100,1000)\n",
    "twinx()\n",
    "\n",
    "bin_time = (cellParameters['tstop']/n_bins)/1000.0\n",
    "plot(time,(X[0]/bin_time)/num_syns,'r',label='firing rate')\n",
    "ylabel('avg. firing rate (Hz)')\n",
    "legend()\n",
    "    \n",
    "from scipy.signal import welch\n",
    "from scipy.signal.windows import hann\n",
    "\n",
    "fs = n_bins\n",
    "nblock = n_bins/4\n",
    "overlap = 2\n",
    "win = hann(nblock, True)\n",
    "\n",
    "f, Pxxf = welch(X[0], fs, window=win, noverlap=overlap, nfft=nblock, return_onesided=True)\n",
    "\n",
    "subplot(2,1,2)\n",
    "semilogy(f,Pxxf)\n",
    "ylabel('power')\n",
    "xlabel('frequency (Hz)')"
   ]
  },
  {
   "cell_type": "markdown",
   "metadata": {},
   "source": [
    "## Extracellular potential traces\n",
    "We created 21 electrodes. Here we will plot the extracellular potential recorded from them. The large spikes are extracellular action potentials. We then lowpass filter and downsample the signal to 1000 Hz to get the true LFP."
   ]
  },
  {
   "cell_type": "code",
   "execution_count": null,
   "metadata": {},
   "outputs": [],
   "source": [
    "from scipy import signal\n",
    "def low_pass_filt(cutoff,fs,data):\n",
    "    b, a = signal.butter(2, float(cutoff)/float(fs/2), 'low')\n",
    "    return signal.filtfilt(b, a, data)\n",
    " \n",
    "LFP = np.zeros((electrode.LFP.shape[0],cellParameters['tstop']+1))\n",
    "    \n",
    "# Plot the extracellular potential from all of the electrodes in black with the LFP signal in red.\n",
    "figure(figsize=(17,15))\n",
    "\n",
    "for i in np.arange(0,electrode.LFP.shape[0]):\n",
    "    ax=subplot(7,3,i+1)\n",
    "    plot(cell.tvec,electrode.LFP[i,:],'k')\n",
    "    y = low_pass_filt(500,16000,electrode.LFP[i,:])\n",
    "    plot(np.arange(0,cellParameters['tstop']+1,1),y[::16],'r')\n",
    "    LFP[i,:] = y[::16]\n",
    "    xlim(1000,1100)\n"
   ]
  },
  {
   "cell_type": "markdown",
   "metadata": {},
   "source": [
    "Now to look at the frequency domain. We will first downsample the signal to get rid of the action potentials."
   ]
  },
  {
   "cell_type": "code",
   "execution_count": null,
   "metadata": {},
   "outputs": [],
   "source": [
    "from scipy.signal import welch\n",
    "from scipy.signal.windows import hann\n",
    "\n",
    "\n",
    "fs = 1000\n",
    "nblock = cellParameters['tstop']\n",
    "overlap = 100\n",
    "win = hann(nblock, True)\n",
    "\n",
    "\n",
    "figure(figsize=(17,15))\n",
    "print('FFT of LFP')\n",
    "for i in np.arange(0,electrode.LFP.shape[0]):\n",
    "    f, Pxxf = welch(LFP[i,:], fs, window=win, noverlap=overlap, nfft=nblock, return_onesided=True)\n",
    "    ax=subplot(7,3,i+1)\n",
    "    semilogy(f,Pxxf)\n",
    "    xlim(0,200)\n",
    "\n",
    "#ylim(10e-14,10e-10)\n",
    "#savefig('FFT.svg')"
   ]
  },
  {
   "cell_type": "code",
   "execution_count": null,
   "metadata": {},
   "outputs": [],
   "source": [
    "fig=figure(figsize=(12,10))\n",
    "ax1 = plt.subplot(111)\n",
    "# inset\n",
    "left, bottom, width, height = [0.25, 0.6, 0.2, 0.2]\n",
    "ax2 = fig.add_axes([left, bottom, width, height])\n",
    "ax2.plot(cell.tvec,cell.somav, color='blue')\n",
    "xlim(2025,2030)\n",
    "# main plot\n",
    "ax1.plot(cell.tvec,cell.somav,label='soma',color='blue')\n",
    "c=0\n",
    "for x in dendvreclist:\n",
    "    c = c+1\n",
    "    y = np.array(x)\n",
    "    if c==1:\n",
    "        ax1.plot(cell.tvec,y,label='dend',color=[0,1,0])\n",
    "        ax2.plot(cell.tvec,y,label='dend',color=[0,1,0])\n",
    "    else:\n",
    "        ax1.plot(cell.tvec,y,label='axon',color=[1,0,0])\n",
    "        ax2.plot(cell.tvec,y,label='axon',color=[1,0,0])\n",
    "ax1.set_ylim(-72,20)\n",
    "ax1.legend()\n",
    "title('mem. potential (mV)')"
   ]
  },
  {
   "cell_type": "code",
   "execution_count": null,
   "metadata": {},
   "outputs": [],
   "source": []
  }
 ],
 "metadata": {
  "kernelspec": {
   "display_name": "Python 2",
   "language": "python",
   "name": "python2"
  },
  "language_info": {
   "codemirror_mode": {
    "name": "ipython",
    "version": 2
   },
   "file_extension": ".py",
   "mimetype": "text/x-python",
   "name": "python",
   "nbconvert_exporter": "python",
   "pygments_lexer": "ipython2",
   "version": "2.7.15"
  }
 },
 "nbformat": 4,
 "nbformat_minor": 2
}
