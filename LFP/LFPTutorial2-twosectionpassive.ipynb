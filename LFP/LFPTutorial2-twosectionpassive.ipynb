{
 "cells": [
  {
   "cell_type": "code",
   "execution_count": 1,
   "metadata": {},
   "outputs": [
    {
     "name": "stdout",
     "output_type": "stream",
     "text": [
      "Populating the interactive namespace from numpy and matplotlib\n",
      "Failed to setup nrnpy_pr\n"
     ]
    },
    {
     "name": "stderr",
     "output_type": "stream",
     "text": [
      "/home/ben/anaconda2/lib/python2.7/site-packages/h5py/__init__.py:36: FutureWarning: Conversion of the second argument of issubdtype from `float` to `np.floating` is deprecated. In future, it will be treated as `np.float64 == np.dtype(float).type`.\n",
      "  from ._conv import register_converters as _register_converters\n"
     ]
    }
   ],
   "source": [
    "%pylab inline\n",
    "import LFPy"
   ]
  },
  {
   "cell_type": "code",
   "execution_count": 22,
   "metadata": {},
   "outputs": [],
   "source": [
    "cellParameters = {\n",
    "    'morphology' : 'ball_and_stick.hoc',\n",
    "    'tstart' : -50,\n",
    "    'tstop' : 100,\n",
    "    'dt' : 2**-4,\n",
    "    'passive': True,\n",
    "    'passive_parameters': {'g_pas':0.001, 'e_pas':-70},\n",
    "    'nsegs_method': 'fixed_length',\n",
    "    'max_nsegs_length':50\n",
    "}\n",
    "\n",
    "SynapseParameters = {\n",
    "    'syntype' : 'Exp2Syn',\n",
    "    'e' : -20,\n",
    "    'tau1' : 0.5,\n",
    "    'tau2' : 2.0,\n",
    "    'weight' : 0.009,\n",
    "    'record_current' : True,\n",
    "}\n",
    "\n",
    "z = mgrid[-400:1201:100]\n",
    "electrodeParameters = {\n",
    "    'x' : zeros(z.size),\n",
    "    'y' : zeros(z.size),\n",
    "    'z' : z,\n",
    "    'sigma' : 0.3,\n",
    "}"
   ]
  },
  {
   "cell_type": "code",
   "execution_count": 23,
   "metadata": {},
   "outputs": [],
   "source": [
    "# Cell 1\n",
    "cell = LFPy.Cell(**cellParameters)\n",
    "cell.set_pos(x=-250, y=0, z=0)\n",
    "cell.set_rotation(z=np.pi)\n",
    "\n",
    "\n",
    "synapse = LFPy.Synapse(cell,\n",
    "                       idx = cell.get_closest_idx(x=-250,z=500),\n",
    "                       **SynapseParameters)\n",
    "\n",
    "synapse.set_spike_times(array([50]))       \n",
    "\n",
    "electrode = LFPy.RecExtElectrode(**electrodeParameters)"
   ]
  },
  {
   "cell_type": "code",
   "execution_count": 24,
   "metadata": {},
   "outputs": [],
   "source": [
    "cell.simulate(electrode=electrode,rec_imem=True,rec_ipas=True,rec_icap=True)"
   ]
  },
  {
   "cell_type": "code",
   "execution_count": 25,
   "metadata": {},
   "outputs": [
    {
     "data": {
      "text/plain": [
       "(-500, 1300)"
      ]
     },
     "execution_count": 25,
     "metadata": {},
     "output_type": "execute_result"
    },
    {
     "data": {
      "image/png": "[encoded data removed]",
      "text/plain": [
       "<Figure size 1080x720 with 3 Axes>"
      ]
     },
     "metadata": {},
     "output_type": "display_data"
    }
   ],
   "source": [
    "figure(figsize=(15, 10))\n",
    "#subplot(2,3,4)\n",
    "\n",
    "\n",
    "subplot(1,2,1)\n",
    "# Plot geometry of the cell\n",
    "for sec in LFPy.cell.neuron.h.allsec():\n",
    "    idx = cell.get_idx(sec.name())\n",
    "    if sec.name()==\"soma[0]\":\n",
    "        plot(np.r_[cell.xstart[idx], cell.xend[idx][-1]],\n",
    "            np.r_[cell.zstart[idx], cell.zend[idx][-1]],\n",
    "            'k',linewidth=8)\n",
    "    else:\n",
    "        plot(np.r_[cell.xstart[idx], cell.xend[idx][-1]],\n",
    "            np.r_[cell.zstart[idx], cell.zend[idx][-1]],\n",
    "            'k',linewidth=2)\n",
    "# Plot synapse as red dot\n",
    "plot([cell.synapses[0].x], [cell.synapses[0].z], \\\n",
    "     color='r', marker='o', markersize=5,label='synapse')\n",
    "# Plot electrodes as green dots\n",
    "plot(electrode.x, electrode.z, '.', marker='o', color='g',label='electrodes')\n",
    "\n",
    "xlabel('distance (um)')\n",
    "ylabel('distance (um)')\n",
    "ylim(-500,1300)\n",
    "legend()\n",
    "\n",
    "        \n",
    "#### Calculate extracellular potential by hand\n",
    "'''\n",
    "# electrode 5 is at 0,100\n",
    "h = np.zeros((5,1))\n",
    "l = np.zeros((5,1))\n",
    "r = np.zeros((5,1))\n",
    "\n",
    "for i in np.arange(0,5):\n",
    "    h[i,0] = electrode.z[5]-cell.zend[i]\n",
    "    l[i,0] = electrode.z[5]-cell.zstart[i]\n",
    "    r[i,0] = electrode.x[5]-cell.xstart[i]\n",
    "\n",
    "dist = np.log((np.sqrt(h**2+r**2)-h)/(np.sqrt(l**2+r**2)-l))\n",
    "v_ext=1000*(1/(4*np.pi*300*5))*np.dot(np.transpose(cell.imem),dist)\n",
    "'''\n",
    "subplot(1,2,2)\n",
    "pcolormesh(cell.tvec, electrode.z, electrode.LFP,\n",
    "           vmin=-abs(electrode.LFP).max(), vmax=abs(electrode.LFP).max(),\n",
    "           cmap='inferno'), colorbar(), title('LFP (mV)')\n",
    "ylim(-500,1300)"
   ]
  },
  {
   "cell_type": "code",
   "execution_count": 14,
   "metadata": {},
   "outputs": [
    {
     "name": "stdout",
     "output_type": "stream",
     "text": [
      "(89, 1601)\n"
     ]
    }
   ],
   "source": []
  },
  {
   "cell_type": "code",
   "execution_count": null,
   "metadata": {},
   "outputs": [],
   "source": []
  }
 ],
 "metadata": {
  "kernelspec": {
   "display_name": "Python 2",
   "language": "python",
   "name": "python2"
  },
  "language_info": {
   "codemirror_mode": {
    "name": "ipython",
    "version": 2
   },
   "file_extension": ".py",
   "mimetype": "text/x-python",
   "name": "python",
   "nbconvert_exporter": "python",
   "pygments_lexer": "ipython2",
   "version": "2.7.15"
  }
 },
 "nbformat": 4,
 "nbformat_minor": 2
}
