{
 "cells": [
  {
   "cell_type": "markdown",
   "metadata": {},
   "source": [
    "# BLA Pyramidal Cell LFP\n",
    "In this notebook we will investigate the contributions to the LFP of a stylized pyramidal cell from BLA. We will provide rhythmic synaptic input and compare the outcome to the detailed morphological reconstruction."
   ]
  },
  {
   "cell_type": "code",
   "execution_count": 7,
   "metadata": {},
   "outputs": [
    {
     "name": "stdout",
     "output_type": "stream",
     "text": [
      "Populating the interactive namespace from numpy and matplotlib\n"
     ]
    },
    {
     "name": "stderr",
     "output_type": "stream",
     "text": [
      "/home/ben/anaconda2/lib/python2.7/site-packages/IPython/core/magics/pylab.py:161: UserWarning: pylab import has clobbered these variables: ['trace']\n",
      "`%matplotlib` prevents importing * from pylab and numpy\n",
      "  \"\\n`%matplotlib` prevents importing * from pylab and numpy\"\n"
     ]
    }
   ],
   "source": [
    "%pylab inline\n",
    "import LFPy\n",
    "import scipy\n",
    "numpy.random.seed(12512)"
   ]
  },
  {
   "cell_type": "markdown",
   "metadata": {},
   "source": [
    "# Create cell"
   ]
  },
  {
   "cell_type": "code",
   "execution_count": 8,
   "metadata": {},
   "outputs": [],
   "source": [
    "cellParameters = {\n",
    "    'morphology' : 'simple_pyrtypeC_LFPy.hoc',\n",
    "    'tstart' : -50,\n",
    "    'tstop' : 500,\n",
    "    'dt' : 2**-4,\n",
    "    'passive': False,\n",
    "    'nsegs_method': 'fixed_length',\n",
    "    'max_nsegs_length':5\n",
    "}\n",
    "\n",
    "SynapseParameters = {\n",
    "    'syntype' : 'Exp2Syn',\n",
    "    'e' : -40,\n",
    "    'tau1' : 1.0,\n",
    "    'tau2' : 3.0,\n",
    "    'weight' : 0.003,\n",
    "    'record_current' : True,\n",
    "}\n",
    "\n",
    "\n",
    "# Define electrode parameters\n",
    "# Create a grid of measurement locations, in (mum)\n",
    "X, Z = np.mgrid[-1900:1451:50, -1650:1651:50]\n",
    "Y = np.zeros(X.shape)\n",
    "electrodeParameters = {\n",
    "    'sigma' : 0.3,      # extracellular conductivity\n",
    "    'x' : X.flatten(),  # electrode requires 1d vector of positions\n",
    "    'y' : Y.flatten(),\n",
    "    'z' : Z.flatten()\n",
    "}"
   ]
  },
  {
   "cell_type": "code",
   "execution_count": 9,
   "metadata": {},
   "outputs": [],
   "source": [
    "# Create cell and print the variables belonging to it.\n",
    "cell = LFPy.Cell(**cellParameters)\n",
    "cell.set_pos(x=-250, y=0, z=0)\n",
    "cell.set_rotation(z=np.pi)\n",
    "\n",
    "#from pprint import pprint\n",
    "#print(pprint(vars(cell)))"
   ]
  },
  {
   "cell_type": "markdown",
   "metadata": {},
   "source": [
    "# Add Synapses\n",
    "Now we will place the synapses along the apical dendrite. "
   ]
  },
  {
   "cell_type": "code",
   "execution_count": 10,
   "metadata": {},
   "outputs": [],
   "source": [
    "num_syns = 1\n",
    "\n",
    "insert_synapses_AMPA_args = {\n",
    "    'section' : 'dend[0]',\n",
    "    'n' : num_syns,\n",
    "    'spTimesFun' : LFPy.inputgenerators.get_activation_times_from_distribution,\n",
    "    'args' : dict(n=1, tstart=0, tstop=cellParameters['tstop'],\n",
    "                  distribution=scipy.stats.poisson,\n",
    "                  rvs_args=dict(mu=500.0)\n",
    "                  )\n",
    "}\n",
    "\n",
    "wgts = []\n",
    "\n",
    "def insert_synapses(synparams, section, n, spTimesFun, args):\n",
    "    '''find n compartments to insert synapses onto'''\n",
    "    spk_times_save = []\n",
    "    idx = cell.get_rand_idx_area_norm(section=section, nidx=n)\n",
    "    \n",
    "    mu_wgt = synparams['weight']\n",
    "    #Insert synapses in an iterative fashion\n",
    "    for i in idx:\n",
    "  \n",
    "        # make synaptic weights vary around the mean\n",
    "        rand_wgt = numpy.random.normal(mu_wgt,mu_wgt/10)\n",
    "        synparams['weight'] = rand_wgt\n",
    "        wgts.append(synparams['weight'])\n",
    "        synparams.update({'idx' : int(i)})\n",
    "        \n",
    "        # Some input spike train using the function call\n",
    "        [spiketimes] = spTimesFun(**args)\n",
    "\n",
    "        # Create synapse(s) and setting times using the Synapse class in LFPy\n",
    "        s = LFPy.Synapse(cell, **synparams)\n",
    "        s.set_spike_times(spiketimes)\n",
    "\n",
    "        spk_times_save.append(spiketimes)\n",
    "        \n",
    "    return spk_times_save\n",
    "\n",
    "# Synapse\n",
    "synapse = LFPy.Synapse(cell,\n",
    "                       idx = cell.get_closest_idx(x=-250,z=0),\n",
    "                       **SynapseParameters)\n",
    "\n",
    "# Synapse will be applied at 50 ms\n",
    "synapse.set_spike_times(array([400])) \n",
    "\n",
    "#syn_spike_times = insert_synapses(SynapseParameters,**insert_synapses_AMPA_args)\n",
    "\n",
    "# Set electrode\n",
    "electrode = LFPy.RecExtElectrode(**electrodeParameters)"
   ]
  },
  {
   "cell_type": "markdown",
   "metadata": {},
   "source": [
    "# Simulate"
   ]
  },
  {
   "cell_type": "code",
   "execution_count": 11,
   "metadata": {},
   "outputs": [],
   "source": [
    "import neuron\n",
    "\n",
    "cell.simulate(electrode=electrode,rec_imem=True,rec_ipas=True,rec_icap=True,rec_vmem=True)"
   ]
  },
  {
   "cell_type": "markdown",
   "metadata": {},
   "source": [
    "# Plot results\n",
    "Figure 1 is a plot of the geometry of the cell, the location of the electrodes, location of the synapses, and the extracellular potential."
   ]
  },
  {
   "cell_type": "code",
   "execution_count": null,
   "metadata": {},
   "outputs": [],
   "source": [
    "#### Calculate extracellular potential by hand\n",
    "\n",
    "# electrode 5 is at 0,100\n",
    "#h = np.zeros((5,1))\n",
    "#l = np.zeros((5,1))\n",
    "#r = np.zeros((5,1))\n",
    "\n",
    "#for i in np.arange(0,5):\n",
    "#    h[i,0] = electrode.z[5]-cell.zend[i]\n",
    "#    l[i,0] = electrode.z[5]-cell.zstart[i]\n",
    "#    r[i,0] = electrode.x[5]-cell.xstart[i]\n",
    "\n",
    "#dist = np.log((np.sqrt(h**2+r**2)-h)/(np.sqrt(l**2+r**2)-l))\n",
    "#v_ext=1000*(1/(4*np.pi*300*5))*np.dot(np.transpose(cell.imem),dist)\n"
   ]
  },
  {
   "cell_type": "code",
   "execution_count": null,
   "metadata": {},
   "outputs": [],
   "source": [
    "## import pdb\n",
    "from scipy.signal import find_peaks\n",
    "segs_to_syn_dist = []\n",
    "segs_imem_peak = []\n",
    "segs_vmem_peak = []\n",
    "segs_ipas_peak = []\n",
    "segs_icap_peak = []\n",
    "\n",
    "# find distance of all segments to the synapse\n",
    "for sec in LFPy.cell.neuron.h.allsec():\n",
    "    idx = cell.get_idx(sec.name())\n",
    "    i = 0\n",
    "    for seg in sec:\n",
    "        x_dist = (cell.xstart[idx][i]-cell.synapses[0].x)**2\n",
    "        y_dist = (cell.ystart[idx][i]-cell.synapses[0].y)**2\n",
    "        z_dist = (cell.zstart[idx][i]-cell.synapses[0].z)**2\n",
    "        dist = np.sqrt(x_dist+y_dist+z_dist)\n",
    "        segs_to_syn_dist.append(dist)\n",
    "        i+=1\n",
    "\n",
    "time_show = 52\n",
    "tidx = np.where(cell.tvec == time_show)[0]\n",
    "# find peak of transmembrane current\n",
    "for i in np.arange(0,cell.imem.shape[0]):\n",
    "    segs_imem_peak.append(cell.imem[i,tidx])\n",
    "        \n",
    "# find peak of transmembrane current\n",
    "for i in np.arange(0,cell.vmem.shape[0]):\n",
    "    segs_vmem_peak.append(cell.vmem[i,tidx])\n",
    "        \n",
    "# find peak of passive current\n",
    "for i in np.arange(0,cell.ipas.shape[0]):\n",
    "    segs_ipas_peak.append(cell.ipas[i,tidx])\n",
    "\n",
    "# find peak of capacitive current\n",
    "for i in np.arange(0,cell.icap.shape[0]):\n",
    "    segs_icap_peak.append(cell.icap[i,tidx])\n",
    "        \n",
    "# Plot\n",
    "# distance vs. imembrane\n",
    "fig = figure(figsize=(10,6))\n",
    "plot(segs_to_syn_dist[0:6],segs_imem_peak[0:6],'k.',label='soma')\n",
    "plot(segs_to_syn_dist[6:6+112],segs_imem_peak[6:6+112],'g.',label='dend[0]')\n",
    "plot(segs_to_syn_dist[6+112:6+112+55],segs_imem_peak[6+112:6+112+55],'b.',label='dend[1]')\n",
    "plot(segs_to_syn_dist[6+112+55:6+112+55+20],segs_imem_peak[6+112+55:6+112+55+20],'r.',label='AIS')\n",
    "plot(segs_to_syn_dist[6+112+55+20:],segs_imem_peak[6+112+55+20:],'m.',label='axon')\n",
    "\n",
    "# sum of all currents\n",
    "plot(segs_to_syn_dist[0:6],np.array(segs_ipas_peak[0:6])+np.array(segs_icap_peak[0:6]),'k+',label='sum(I)')\n",
    "plot(segs_to_syn_dist[6:6+112],np.array(segs_ipas_peak[6:6+112])+np.array(segs_icap_peak[6:6+112]),'g+',label='sum(I)')\n",
    "plot(segs_to_syn_dist[6+112:6+112+55],\n",
    "     np.array(segs_ipas_peak[6+112:6+112+55])+np.array(segs_icap_peak[6+112:6+112+55]),\n",
    "     'b+',label='sum(I)')\n",
    "plot(segs_to_syn_dist[6+112+55:6+112+55+20],\n",
    "     np.array(segs_ipas_peak[6+112+55:6+112+55+20])+np.array(segs_icap_peak[6+112+55:6+112+55+20]),\n",
    "     'r+',label='sum(I)')\n",
    "plot(segs_to_syn_dist[6+112+55+20:],\n",
    "     np.array(segs_ipas_peak[6+112+55+20:])+np.array(segs_icap_peak[6+112+55+20:]),\n",
    "     'm+',label='sum(I)')\n",
    "ylim(-0.0001,0.0022)\n",
    "ylabel('transmembrane current(nA)')\n",
    "xlabel('distance to sink(um)')\n",
    "legend()\n",
    "\n",
    "# distance vs. ipassive\n",
    "fig = figure(figsize=(10,6))\n",
    "plot(segs_to_syn_dist[0:6],segs_ipas_peak[0:6],'k.',label='soma')\n",
    "plot(segs_to_syn_dist[6:6+112],segs_ipas_peak[6:6+112],'g.',label='dend[0]')\n",
    "plot(segs_to_syn_dist[6+112:6+112+55],segs_ipas_peak[6+112:6+112+55],'b.',label='dend[1]')\n",
    "plot(segs_to_syn_dist[6+112+55:6+112+55+20],segs_ipas_peak[6+112+55:6+112+55+20],'r.',label='AIS')\n",
    "plot(segs_to_syn_dist[6+112+55+20:],segs_ipas_peak[6+112+55+20:],'m.',label='axon')\n",
    "ylim(-0.0001,0.00075)\n",
    "ylabel('passive current(nA)')\n",
    "xlabel('distance to sink(um)')\n",
    "legend()\n",
    "\n",
    "# distance vs. icap\n",
    "fig = figure(figsize=(10,6))\n",
    "plot(segs_to_syn_dist[0:6],segs_icap_peak[0:6],'k.',label='soma')\n",
    "plot(segs_to_syn_dist[6:6+112],segs_icap_peak[6:6+112],'g.',label='dend[0]')\n",
    "plot(segs_to_syn_dist[6+112:6+112+55],segs_icap_peak[6+112:6+112+55],'b.',label='dend[1]')\n",
    "plot(segs_to_syn_dist[6+112+55:6+112+55+20],segs_icap_peak[6+112+55:6+112+55+20],'r.',label='AIS')\n",
    "plot(segs_to_syn_dist[6+112+55+20:],segs_icap_peak[6+112+55+20:],'m.',label='axon')\n",
    "#ylim(-0.0001,0.00025)\n",
    "ylabel('capacitive current(nA)')\n",
    "xlabel('distance to sink(um)')\n",
    "legend()\n",
    "\n",
    "fig = figure(figsize=(10,7))\n",
    "plot(segs_to_syn_dist[0:6],segs_vmem_peak[0:6],'k.',label='soma')\n",
    "plot(segs_to_syn_dist[6:6+112],segs_vmem_peak[6:6+112],'g.',label='dend[0]')\n",
    "plot(segs_to_syn_dist[6+112:6+112+55],segs_vmem_peak[6+112:6+112+55],'b.',label='dend[1]')\n",
    "plot(segs_to_syn_dist[6+112+55:6+112+55+20],segs_vmem_peak[6+112+55:6+112+55+20],'r.',label='AIS')\n",
    "plot(segs_to_syn_dist[6+112+55+20:],segs_vmem_peak[6+112+55+20:],'m.',label='axon')\n",
    "plot(segs_to_syn_dist,-71.25*np.ones((len(segs_to_syn_dist),)),'k--')\n",
    "text(25,-71.1,'V_rest')\n",
    "ylabel('membrane potential (mV)')\n",
    "xlabel('distance to sink(um)')\n",
    "\n",
    "#fig = figure(figsize=(10,7))\n",
    "#plot(segs_vmem_peak[0:6],segs_imem_peak[0:6],'k.',label='soma')\n",
    "#plot(segs_vmem_peak[6:6+112],segs_imem_peak[6:6+112],'g.',label='dend[0]')\n",
    "#plot(segs_vmem_peak[6+112:6+112+55],segs_imem_peak[6+112:6+112+55],'b.',label='dend[1]')\n",
    "#plot(segs_vmem_peak[6+112+55:6+112+55+20],segs_imem_peak[6+112+55:6+112+55+20],'r.',label='AIS')\n",
    "#plot(segs_vmem_peak[6+112+55+20:],segs_imem_peak[6+112+55+20:],'m.',label='axon')\n",
    "#ylim(-0.001,0.001)\n",
    "#legend()\n"
   ]
  },
  {
   "cell_type": "code",
   "execution_count": 12,
   "metadata": {},
   "outputs": [
    {
     "data": {
      "text/plain": [
       "[]"
      ]
     },
     "execution_count": 12,
     "metadata": {},
     "output_type": "execute_result"
    },
    {
     "data": {
      "image/png": "[encoded data removed]",
      "text/plain": [
       "<Figure size 360x360 with 1 Axes>"
      ]
     },
     "metadata": {},
     "output_type": "display_data"
    },
    {
     "data": {
      "image/png": "[encoded data removed]",
      "text/plain": [
       "<Figure size 720x360 with 1 Axes>"
      ]
     },
     "metadata": {},
     "output_type": "display_data"
    }
   ],
   "source": [
    "from utils import plot_ex1, plot_vmem_heat\n",
    "\n",
    "fig = plot_ex1(cell, electrode, X, Y, Z, time_show=[402], space_lim = [-1450,1000,-1300,1500])\n",
    "#fig.savefig('stylized_LFP_zoom2.svg')\n",
    "\n",
    "#fig2 = plot_vmem_heat(cell,time_show=[52])\n",
    "\n",
    "# Distance from sink vs. amplitude\n",
    "\n",
    "from scipy.signal import find_peaks\n",
    "import pdb\n",
    "peaks=[]\n",
    "distance=[]\n",
    "for i in np.arange(0,electrode.LFP.shape[0]):\n",
    "    mu = np.mean(electrode.LFP[i,:])\n",
    "    sigma = np.std(electrode.LFP[i,:])\n",
    "    trace = (electrode.LFP[i,:]-mu)/sigma\n",
    "    if find_peaks(trace)[0].shape[0]!=0:\n",
    "        peak_pos = find_peaks(trace)[0][0]\n",
    "    if find_peaks(-trace)[0].shape[0]!=0:\n",
    "        peak_neg = find_peaks(-trace)[0][0]\n",
    "\n",
    "    if np.abs(trace[peak_neg])>2:\n",
    "        peaks.append(electrode.LFP[i,peak_neg])\n",
    "    elif np.abs(trace[peak_pos])>2:\n",
    "        peaks.append(electrode.LFP[i,peak_pos])\n",
    "    else:\n",
    "        peaks.append(0.0)\n",
    "    # Calculate distance from sink (synapse)\n",
    "    distance.append(np.sqrt((cell.synapses[0].x-electrode.x[i])**2+(cell.synapses[0].z-electrode.z[i])**2))\n",
    "\n",
    "\n",
    "    \n",
    "fig = figure(figsize=(10,5))\n",
    "ax = subplot(111)\n",
    "distance = np.array(distance)\n",
    "peaks = np.array(peaks)\n",
    "\n",
    "plot(distance[distance<100],peaks[distance<100]/10,'r.')\n",
    "plot(distance[distance>=100],peaks[distance>=100],'b.')\n",
    "plot(distance,np.zeros((len(distance),)),'k--')\n",
    "\n",
    "plot([20,20],[-0.000055,-0.000045],'r')\n",
    "text(30,-0.00005,'0.1 uV')\n",
    "\n",
    "plot([220,220],[-0.000055,-0.000045],'b')\n",
    "text(230,-0.00005,'0.01 uV')\n",
    "\n",
    "xlabel('distance to sink (um)')\n",
    "ax.set_yticklabels([])\n",
    "ax.set_yticks([])"
   ]
  },
  {
   "cell_type": "code",
   "execution_count": null,
   "metadata": {},
   "outputs": [],
   "source": [
    "from utils import plot_ex2,plot_elec_grid\n",
    "fig = plot_elec_grid(cell,electrode)\n",
    "#fig.savefig('pyramidalsynapseelecsspike.tiff')"
   ]
  },
  {
   "cell_type": "markdown",
   "metadata": {},
   "source": [
    "## Distance from synapse vs. amplitude of peak"
   ]
  },
  {
   "cell_type": "code",
   "execution_count": null,
   "metadata": {},
   "outputs": [],
   "source": []
  },
  {
   "cell_type": "markdown",
   "metadata": {},
   "source": [
    "## Visualize synaptic inputs\n",
    "Let's get an idea of what the synaptic spike times look like. First we need to convert the spike times to a one dimensional array."
   ]
  },
  {
   "cell_type": "code",
   "execution_count": null,
   "metadata": {},
   "outputs": [],
   "source": [
    "st_1darr = np.zeros((100000,))\n",
    "\n",
    "start = 0\n",
    "stop = syn_spike_times[0].shape[0]\n",
    "for i in np.arange(0,len(syn_spike_times)-1):\n",
    "    st_1darr[start:stop] = syn_spike_times[i]\n",
    "    start = stop\n",
    "    stop = start + syn_spike_times[i+1].shape[0]"
   ]
  },
  {
   "cell_type": "code",
   "execution_count": null,
   "metadata": {},
   "outputs": [],
   "source": [
    "n_bins = cellParameters['tstop']/10\n",
    "\n",
    "time = np.arange(0,cellParameters['tstop'],cellParameters['tstop']/n_bins)\n",
    "figure(figsize=(12,12))\n",
    "X=np.histogram(st_1darr[st_1darr!=0],bins=n_bins)\n",
    "\n",
    "for i in np.arange(0,len(syn_spike_times)):    \n",
    "    subplot(2,1,1)\n",
    "    plot(syn_spike_times[i],np.tile(i, syn_spike_times[i].shape[0]),'b.')\n",
    "\n",
    "ylabel('cell ID')\n",
    "xlabel('time(ms)')\n",
    "xlim(100,1000)\n",
    "twinx()\n",
    "\n",
    "bin_time = (cellParameters['tstop']/n_bins)/1000.0\n",
    "plot(time,(X[0]/bin_time)/num_syns,'r',label='firing rate')\n",
    "ylabel('avg. firing rate (Hz)')\n",
    "legend()\n",
    "    \n",
    "from scipy.signal import welch\n",
    "from scipy.signal.windows import hann\n",
    "\n",
    "fs = n_bins\n",
    "nblock = n_bins/4\n",
    "overlap = 2\n",
    "win = hann(nblock, True)\n",
    "\n",
    "f, Pxxf = welch(X[0], fs, window=win, noverlap=overlap, nfft=nblock, return_onesided=True)\n",
    "\n",
    "subplot(2,1,2)\n",
    "semilogy(f,Pxxf)\n",
    "ylabel('power')\n",
    "xlabel('frequency (Hz)')"
   ]
  },
  {
   "cell_type": "markdown",
   "metadata": {},
   "source": [
    "## Extracellular potential traces\n",
    "We created 21 electrodes. Here we will plot the extracellular potential recorded from them. The large spikes are extracellular action potentials. We then lowpass filter and downsample the signal to 1000 Hz to get the true LFP."
   ]
  },
  {
   "cell_type": "code",
   "execution_count": null,
   "metadata": {},
   "outputs": [],
   "source": [
    "from scipy import signal\n",
    "def low_pass_filt(cutoff,fs,data):\n",
    "    b, a = signal.butter(2, float(cutoff)/float(fs/2), 'low')\n",
    "    return signal.filtfilt(b, a, data)\n",
    " \n",
    "LFP = np.zeros((electrode.LFP.shape[0],cellParameters['tstop']+1))\n",
    "    \n",
    "# Plot the extracellular potential from all of the electrodes in black with the LFP signal in red.\n",
    "figure(figsize=(17,15))\n",
    "\n",
    "for i in np.arange(0,electrode.LFP.shape[0]):\n",
    "    ax=subplot(7,3,i+1)\n",
    "    plot(cell.tvec,electrode.LFP[i,:],'k')\n",
    "    y = low_pass_filt(500,16000,electrode.LFP[i,:])\n",
    "    plot(np.arange(0,cellParameters['tstop']+1,1),y[::16],'r')\n",
    "    LFP[i,:] = y[::16]\n",
    "    xlim(1000,1100)\n"
   ]
  },
  {
   "cell_type": "markdown",
   "metadata": {},
   "source": [
    "Now to look at the frequency domain. We will first downsample the signal to get rid of the action potentials."
   ]
  },
  {
   "cell_type": "code",
   "execution_count": null,
   "metadata": {},
   "outputs": [],
   "source": [
    "from scipy.signal import welch\n",
    "from scipy.signal.windows import hann\n",
    "\n",
    "\n",
    "fs = 1000\n",
    "nblock = cellParameters['tstop']\n",
    "overlap = 100\n",
    "win = hann(nblock, True)\n",
    "\n",
    "\n",
    "figure(figsize=(17,15))\n",
    "print('FFT of LFP')\n",
    "for i in np.arange(0,electrode.LFP.shape[0]):\n",
    "    f, Pxxf = welch(LFP[i,:], fs, window=win, noverlap=overlap, nfft=nblock, return_onesided=True)\n",
    "    ax=subplot(7,3,i+1)\n",
    "    semilogy(f,Pxxf)\n",
    "    xlim(0,200)\n",
    "\n",
    "#ylim(10e-14,10e-10)\n",
    "#savefig('FFT.svg')"
   ]
  },
  {
   "cell_type": "code",
   "execution_count": null,
   "metadata": {},
   "outputs": [],
   "source": [
    "fig=figure(figsize=(12,10))\n",
    "ax1 = plt.subplot(111)\n",
    "# inset\n",
    "left, bottom, width, height = [0.25, 0.6, 0.2, 0.2]\n",
    "ax2 = fig.add_axes([left, bottom, width, height])\n",
    "ax2.plot(cell.tvec,cell.somav, color='blue')\n",
    "xlim(2025,2030)\n",
    "# main plot\n",
    "ax1.plot(cell.tvec,cell.somav,label='soma',color='blue')\n",
    "c=0\n",
    "for x in dendvreclist:\n",
    "    c = c+1\n",
    "    y = np.array(x)\n",
    "    if c==1:\n",
    "        ax1.plot(cell.tvec,y,label='dend',color=[0,1,0])\n",
    "        ax2.plot(cell.tvec,y,label='dend',color=[0,1,0])\n",
    "    else:\n",
    "        ax1.plot(cell.tvec,y,label='axon',color=[1,0,0])\n",
    "        ax2.plot(cell.tvec,y,label='axon',color=[1,0,0])\n",
    "ax1.set_ylim(-72,20)\n",
    "ax1.legend()\n",
    "title('mem. potential (mV)')"
   ]
  },
  {
   "cell_type": "code",
   "execution_count": null,
   "metadata": {},
   "outputs": [],
   "source": []
  }
 ],
 "metadata": {
  "kernelspec": {
   "display_name": "Python 2",
   "language": "python",
   "name": "python2"
  },
  "language_info": {
   "codemirror_mode": {
    "name": "ipython",
    "version": 2
   },
   "file_extension": ".py",
   "mimetype": "text/x-python",
   "name": "python",
   "nbconvert_exporter": "python",
   "pygments_lexer": "ipython2",
   "version": "2.7.15"
  }
 },
 "nbformat": 4,
 "nbformat_minor": 2
}
