{
 "cells": [
  {
   "cell_type": "markdown",
   "metadata": {},
   "source": [
    "# LFP Tutorial 2 - Active Cell\n",
    "This second tutorial in the LFP series is to demonstrate how the situation changes when we add active channels. To run through this example code and produce output, press **``<shift-Enter>``** in each code block below or click the \"Run\" button above."
   ]
  },
  {
   "cell_type": "code",
   "execution_count": 1,
   "metadata": {},
   "outputs": [],
   "source": [
    "%%capture \n",
    "import LFPy # LFPy for modeling the cell with NEURON"
   ]
  },
  {
   "cell_type": "code",
   "execution_count": 2,
   "metadata": {},
   "outputs": [
    {
     "name": "stdout",
     "output_type": "stream",
     "text": [
      "Populating the interactive namespace from numpy and matplotlib\n"
     ]
    }
   ],
   "source": [
    "%pylab inline"
   ]
  },
  {
   "cell_type": "markdown",
   "metadata": {},
   "source": [
    "We will begin by building our cell from a template, which is contained in this directory. This cell is modeled as a cylinder that is 150 um long and will have 5 segments, each 30 um long. The canonical circuit diagram for a passive compartmental model is given below. Here we are focused on the so-called \"transmembrane current\" which is the sum of the capacitive current plus leak current, and is denoted here by $I_{mn}$: where n is the segment number.\n",
    "<img src=\"circuit.png\">"
   ]
  },
  {
   "cell_type": "markdown",
   "metadata": {},
   "source": [
    "## Define cell and simulation parameters\n",
    "We need to define the parameters of the cell, seen in the circuit above. These are the membrane capacitance (cm), leak conductance (g_pas), leak reversal potential (e_pas), and axial resistance per unit length (Ra). We will apply a synapse to Segment 1, as shown in the circuit as an independent current source. The parameters for the synapse are also defined here.\n",
    "\n",
    "Then we will create a \"grid\" of extracellular electrodes which will be used to calculate the extracellular potential."
   ]
  },
  {
   "cell_type": "code",
   "execution_count": 3,
   "metadata": {},
   "outputs": [],
   "source": [
    "cellParameters = {\n",
    "    'morphology' : 'single_section_active.hoc',\n",
    "    'tstart' : -50,\n",
    "    'tstop' : 100,\n",
    "    'dt' : 2**-4,\n",
    "    'nsegs_method': 'fixed_length',\n",
    "    'max_nsegs_length':101,\n",
    "    'Ra':150,\n",
    "    'cm':1,\n",
    "    'verbose':True\n",
    "}\n",
    "\n",
    "SynapseParameters = {\n",
    "    'syntype' : 'Exp2Syn',\n",
    "    'e' : -20,\n",
    "    'tau1' : 0.5,\n",
    "    'tau2' : 2.0,\n",
    "    'weight' : 0.014,\n",
    "    'record_current' : True,\n",
    "}\n",
    "\n",
    "z = mgrid[-400:1201:100]\n",
    "electrodeParameters = {\n",
    "    'x' : zeros(z.size),\n",
    "    'y' : zeros(z.size),\n",
    "    'z' : z,\n",
    "    'sigma' : 0.3,\n",
    "}"
   ]
  },
  {
   "cell_type": "markdown",
   "metadata": {},
   "source": [
    "Then, create the **cell**, **synapse** and **electrode** objects using \n",
    "**LFPy.Cell**, **LFPy.Synapse**, **LFPy.RecExtElectrode**."
   ]
  },
  {
   "cell_type": "code",
   "execution_count": 4,
   "metadata": {},
   "outputs": [
    {
     "name": "stdout",
     "output_type": "stream",
     "text": [
      "No passive properties added\n",
      "no extracellular mechanism inserted\n",
      "Total number of segments: 5\n",
      "Geometry not rotated around x-axis\n",
      "Geometry not rotated around y-axis\n",
      "Geometry not rotated around z-axis\n",
      "Geometry not rotated around x-axis\n",
      "Geometry not rotated around y-axis\n",
      "Geometry not rotated around z-axis\n",
      "Geometry not rotated around x-axis\n",
      "Geometry not rotated around y-axis\n",
      "Geometry not rotated around z-axis\n",
      "Geometry not rotated around x-axis\n",
      "Geometry not rotated around y-axis\n",
      "Geometry not rotated around z-axis\n",
      "Geometry not rotated around x-axis\n",
      "Geometry not rotated around y-axis\n",
      "Geometry not rotated around z-axis\n",
      "Geometry not rotated around x-axis\n",
      "Geometry not rotated around y-axis\n",
      "Rotated geometry 3.14159 radians around z-axis\n"
     ]
    }
   ],
   "source": [
    "cell = LFPy.Cell(**cellParameters)\n",
    "cell.set_pos(x=-250, y=0, z=0)\n",
    "cell.set_rotation(z=np.pi)\n",
    "\n",
    "# Synapse\n",
    "synapse = LFPy.Synapse(cell,\n",
    "                       idx = cell.get_closest_idx(x=-250,z=500),\n",
    "                       **SynapseParameters)\n",
    "\n",
    "# Synapse will be applied at 50 ms\n",
    "synapse.set_spike_times(array([50]))       \n",
    "\n",
    "# Create electrode\n",
    "electrode = LFPy.RecExtElectrode(**electrodeParameters)"
   ]
  },
  {
   "cell_type": "markdown",
   "metadata": {},
   "source": [
    "Run the simulation with **electrode** as input to **cell.simulate()**"
   ]
  },
  {
   "cell_type": "code",
   "execution_count": 5,
   "metadata": {},
   "outputs": [
    {
     "ename": "AttributeError",
     "evalue": "i_pas, the mechanism does not exist at soma[0](0.1)",
     "output_type": "error",
     "traceback": [
      "\u001b[0;31m---------------------------------------------------------------------------\u001b[0m",
      "\u001b[0;31mAttributeError\u001b[0m                            Traceback (most recent call last)",
      "\u001b[0;32m<ipython-input-5-be18abbc6ef3>\u001b[0m in \u001b[0;36m<module>\u001b[0;34m()\u001b[0m\n\u001b[0;32m----> 1\u001b[0;31m \u001b[0mcell\u001b[0m\u001b[0;34m.\u001b[0m\u001b[0msimulate\u001b[0m\u001b[0;34m(\u001b[0m\u001b[0melectrode\u001b[0m\u001b[0;34m=\u001b[0m\u001b[0melectrode\u001b[0m\u001b[0;34m,\u001b[0m\u001b[0mrec_imem\u001b[0m\u001b[0;34m=\u001b[0m\u001b[0mTrue\u001b[0m\u001b[0;34m,\u001b[0m\u001b[0mrec_ipas\u001b[0m\u001b[0;34m=\u001b[0m\u001b[0mTrue\u001b[0m\u001b[0;34m,\u001b[0m\u001b[0mrec_icap\u001b[0m\u001b[0;34m=\u001b[0m\u001b[0mTrue\u001b[0m\u001b[0;34m,\u001b[0m\u001b[0mrec_vmem\u001b[0m\u001b[0;34m=\u001b[0m\u001b[0mTrue\u001b[0m\u001b[0;34m,\u001b[0m\u001b[0mrec_variables\u001b[0m\u001b[0;34m=\u001b[0m\u001b[0;34m[\u001b[0m\u001b[0;34m'ina'\u001b[0m\u001b[0;34m,\u001b[0m\u001b[0;34m'ik'\u001b[0m\u001b[0;34m]\u001b[0m\u001b[0;34m)\u001b[0m\u001b[0;34m\u001b[0m\u001b[0m\n\u001b[0m",
      "\u001b[0;32m/home/ben/.local/lib/python2.7/site-packages/LFPy/cell.pyc\u001b[0m in \u001b[0;36msimulate\u001b[0;34m(self, electrode, rec_imem, rec_vmem, rec_ipas, rec_icap, rec_current_dipole_moment, rec_variables, variable_dt, atol, to_memory, to_file, file_name, dotprodcoeffs, **kwargs)\u001b[0m\n\u001b[1;32m   1007\u001b[0m             \u001b[0mself\u001b[0m\u001b[0;34m.\u001b[0m\u001b[0m_set_voltage_recorders\u001b[0m\u001b[0;34m(\u001b[0m\u001b[0;34m)\u001b[0m\u001b[0;34m\u001b[0m\u001b[0m\n\u001b[1;32m   1008\u001b[0m         \u001b[0;32mif\u001b[0m \u001b[0mrec_ipas\u001b[0m\u001b[0;34m:\u001b[0m\u001b[0;34m\u001b[0m\u001b[0m\n\u001b[0;32m-> 1009\u001b[0;31m             \u001b[0mself\u001b[0m\u001b[0;34m.\u001b[0m\u001b[0m_set_ipas_recorders\u001b[0m\u001b[0;34m(\u001b[0m\u001b[0;34m)\u001b[0m\u001b[0;34m\u001b[0m\u001b[0m\n\u001b[0m\u001b[1;32m   1010\u001b[0m         \u001b[0;32mif\u001b[0m \u001b[0mrec_icap\u001b[0m\u001b[0;34m:\u001b[0m\u001b[0;34m\u001b[0m\u001b[0m\n\u001b[1;32m   1011\u001b[0m             \u001b[0mself\u001b[0m\u001b[0;34m.\u001b[0m\u001b[0m_set_icap_recorders\u001b[0m\u001b[0;34m(\u001b[0m\u001b[0;34m)\u001b[0m\u001b[0;34m\u001b[0m\u001b[0m\n",
      "\u001b[0;32m/home/ben/.local/lib/python2.7/site-packages/LFPy/cell.pyc\u001b[0m in \u001b[0;36m_set_ipas_recorders\u001b[0;34m(self)\u001b[0m\n\u001b[1;32m   1204\u001b[0m             \u001b[0;32mfor\u001b[0m \u001b[0mseg\u001b[0m \u001b[0;32min\u001b[0m \u001b[0msec\u001b[0m\u001b[0;34m:\u001b[0m\u001b[0;34m\u001b[0m\u001b[0m\n\u001b[1;32m   1205\u001b[0m                 \u001b[0mmemipasrec\u001b[0m \u001b[0;34m=\u001b[0m \u001b[0mneuron\u001b[0m\u001b[0;34m.\u001b[0m\u001b[0mh\u001b[0m\u001b[0;34m.\u001b[0m\u001b[0mVector\u001b[0m\u001b[0;34m(\u001b[0m\u001b[0mint\u001b[0m\u001b[0;34m(\u001b[0m\u001b[0mself\u001b[0m\u001b[0;34m.\u001b[0m\u001b[0mtstop\u001b[0m \u001b[0;34m/\u001b[0m \u001b[0mself\u001b[0m\u001b[0;34m.\u001b[0m\u001b[0mdt\u001b[0m\u001b[0;34m+\u001b[0m\u001b[0;36m1\u001b[0m\u001b[0;34m)\u001b[0m\u001b[0;34m)\u001b[0m\u001b[0;34m\u001b[0m\u001b[0m\n\u001b[0;32m-> 1206\u001b[0;31m                 \u001b[0mmemipasrec\u001b[0m\u001b[0;34m.\u001b[0m\u001b[0mrecord\u001b[0m\u001b[0;34m(\u001b[0m\u001b[0mseg\u001b[0m\u001b[0;34m.\u001b[0m\u001b[0m_ref_i_pas\u001b[0m\u001b[0;34m,\u001b[0m \u001b[0mself\u001b[0m\u001b[0;34m.\u001b[0m\u001b[0mdt\u001b[0m\u001b[0;34m)\u001b[0m\u001b[0;34m\u001b[0m\u001b[0m\n\u001b[0m\u001b[1;32m   1207\u001b[0m                 \u001b[0mself\u001b[0m\u001b[0;34m.\u001b[0m\u001b[0mmemipasreclist\u001b[0m\u001b[0;34m.\u001b[0m\u001b[0mappend\u001b[0m\u001b[0;34m(\u001b[0m\u001b[0mmemipasrec\u001b[0m\u001b[0;34m)\u001b[0m\u001b[0;34m\u001b[0m\u001b[0m\n\u001b[1;32m   1208\u001b[0m \u001b[0;34m\u001b[0m\u001b[0m\n",
      "\u001b[0;31mAttributeError\u001b[0m: i_pas, the mechanism does not exist at soma[0](0.1)"
     ]
    }
   ],
   "source": [
    "cell.simulate(electrode=electrode,rec_imem=True,rec_icap=True,rec_vmem=True,rec_variables=['ina','ik','il'])"
   ]
  },
  {
   "cell_type": "code",
   "execution_count": null,
   "metadata": {},
   "outputs": [],
   "source": [
    "cell.rec_variables['ina'].shape"
   ]
  },
  {
   "cell_type": "markdown",
   "metadata": {},
   "source": [
    "Then plot the **somatic potential** and the **LFP**\n",
    "from electrode object:"
   ]
  },
  {
   "cell_type": "code",
   "execution_count": null,
   "metadata": {},
   "outputs": [],
   "source": [
    "import utils\n",
    "utils.Plot_active_currs_volt(cell,electrode,synapse)"
   ]
  },
  {
   "cell_type": "markdown",
   "metadata": {},
   "source": [
    "## Verify that the currents add up\n",
    "By Kirchoff's current law (i.e. law of conservation of charge) all of the currents in a compartment must sum to zero. Let's remember the circuit:\n",
    "<img src=\"circuit.png\">\n"
   ]
  },
  {
   "cell_type": "markdown",
   "metadata": {},
   "source": [
    "This means that $I_{mn}$ = $I_{capn}$ + $I_{pasn}$ + $I_{syn}$. In this case there is only synaptic current in one segment so $I_{syn}$ only appears in segment 1. Let's verify that the currents add up to the transmembrane current."
   ]
  },
  {
   "cell_type": "code",
   "execution_count": null,
   "metadata": {},
   "outputs": [],
   "source": [
    "cell.get_axial_currents_from_vmem\n",
    "segment = 5# Segment to verify\n",
    "figure(figsize=(15, 10))\n",
    "subplot(2,1,1)\n",
    "plot(cell.tvec,cell.imem[5-segment,:],'blue',label='imembrane')\n",
    "plot(cell.tvec,cell.ipas[5-segment,:],'red',label='i_pas')\n",
    "plot(cell.tvec,cell.icap[5-segment,:],'green',label='i_cap')\n",
    "i_axial = (cell.vmem[5-segment+1]-cell.vmem[5-segment,:])/(cell.Ra/0.01)\n",
    "plot(cell.tvec,i_axial,'c',label='i_axial')\n",
    "pas_cap = cell.ipas[5-segment,:]+cell.icap[5-segment,:]\n",
    "plot(cell.tvec,pas_cap,'m',label='i_pas+i_cap')\n",
    "ylabel('current(nA)')\n",
    "legend()\n",
    "xlim(45,65)\n",
    "\n",
    "subplot(2,1,2)\n",
    "plot(cell.tvec,pas_cap-cell.imem[5-segment,:])\n",
    "xlabel('time(ms)')\n",
    "ylabel('error')\n",
    "xlim(45,65)"
   ]
  },
  {
   "cell_type": "markdown",
   "metadata": {},
   "source": [
    "There is some error but at most it is ~0.04% of I_mem, which is probably due to differences in numerical precision."
   ]
  },
  {
   "cell_type": "code",
   "execution_count": null,
   "metadata": {},
   "outputs": [],
   "source": []
  }
 ],
 "metadata": {
  "kernelspec": {
   "display_name": "Python 2",
   "language": "python",
   "name": "python2"
  },
  "language_info": {
   "codemirror_mode": {
    "name": "ipython",
    "version": 2
   },
   "file_extension": ".py",
   "mimetype": "text/x-python",
   "name": "python",
   "nbconvert_exporter": "python",
   "pygments_lexer": "ipython2",
   "version": "2.7.15"
  }
 },
 "nbformat": 4,
 "nbformat_minor": 1
}
