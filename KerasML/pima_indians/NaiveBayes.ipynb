{
 "cells": [
  {
   "cell_type": "markdown",
   "metadata": {},
   "source": [
    "# Naive Bayes for Classification\n",
    "In this notebook, I will show how Naive Bayes can be used to classify examples based on their features.\n",
    "Loosely based on https://machinelearningmastery.com/naive-bayes-classifier-scratch-python/"
   ]
  },
  {
   "cell_type": "code",
   "execution_count": 82,
   "metadata": {
    "collapsed": false
   },
   "outputs": [],
   "source": [
    "import numpy as np\n",
    "import pandas as pd\n",
    "import pdb\n",
    "import matplotlib.pyplot as plt\n",
    "from sklearn.model_selection import train_test_split"
   ]
  },
  {
   "cell_type": "markdown",
   "metadata": {},
   "source": [
    "## 1. Load the Data"
   ]
  },
  {
   "cell_type": "code",
   "execution_count": 83,
   "metadata": {
    "collapsed": false
   },
   "outputs": [
    {
     "data": {
      "text/html": [
       "<div>\n",
       "<style scoped>\n",
       "    .dataframe tbody tr th:only-of-type {\n",
       "        vertical-align: middle;\n",
       "    }\n",
       "\n",
       "    .dataframe tbody tr th {\n",
       "        vertical-align: top;\n",
       "    }\n",
       "\n",
       "    .dataframe thead th {\n",
       "        text-align: right;\n",
       "    }\n",
       "</style>\n",
       "<table border=\"1\" class=\"dataframe\">\n",
       "  <thead>\n",
       "    <tr style=\"text-align: right;\">\n",
       "      <th></th>\n",
       "      <th>0</th>\n",
       "      <th>1</th>\n",
       "      <th>2</th>\n",
       "      <th>3</th>\n",
       "      <th>4</th>\n",
       "      <th>5</th>\n",
       "      <th>6</th>\n",
       "      <th>7</th>\n",
       "      <th>8</th>\n",
       "    </tr>\n",
       "  </thead>\n",
       "  <tbody>\n",
       "    <tr>\n",
       "      <th>0</th>\n",
       "      <td>6</td>\n",
       "      <td>148</td>\n",
       "      <td>72</td>\n",
       "      <td>35</td>\n",
       "      <td>0</td>\n",
       "      <td>33.6</td>\n",
       "      <td>0.627</td>\n",
       "      <td>50</td>\n",
       "      <td>1</td>\n",
       "    </tr>\n",
       "    <tr>\n",
       "      <th>1</th>\n",
       "      <td>1</td>\n",
       "      <td>85</td>\n",
       "      <td>66</td>\n",
       "      <td>29</td>\n",
       "      <td>0</td>\n",
       "      <td>26.6</td>\n",
       "      <td>0.351</td>\n",
       "      <td>31</td>\n",
       "      <td>0</td>\n",
       "    </tr>\n",
       "    <tr>\n",
       "      <th>2</th>\n",
       "      <td>8</td>\n",
       "      <td>183</td>\n",
       "      <td>64</td>\n",
       "      <td>0</td>\n",
       "      <td>0</td>\n",
       "      <td>23.3</td>\n",
       "      <td>0.672</td>\n",
       "      <td>32</td>\n",
       "      <td>1</td>\n",
       "    </tr>\n",
       "    <tr>\n",
       "      <th>3</th>\n",
       "      <td>1</td>\n",
       "      <td>89</td>\n",
       "      <td>66</td>\n",
       "      <td>23</td>\n",
       "      <td>94</td>\n",
       "      <td>28.1</td>\n",
       "      <td>0.167</td>\n",
       "      <td>21</td>\n",
       "      <td>0</td>\n",
       "    </tr>\n",
       "    <tr>\n",
       "      <th>4</th>\n",
       "      <td>0</td>\n",
       "      <td>137</td>\n",
       "      <td>40</td>\n",
       "      <td>35</td>\n",
       "      <td>168</td>\n",
       "      <td>43.1</td>\n",
       "      <td>2.288</td>\n",
       "      <td>33</td>\n",
       "      <td>1</td>\n",
       "    </tr>\n",
       "  </tbody>\n",
       "</table>\n",
       "</div>"
      ],
      "text/plain": [
       "   0    1   2   3    4     5      6   7  8\n",
       "0  6  148  72  35    0  33.6  0.627  50  1\n",
       "1  1   85  66  29    0  26.6  0.351  31  0\n",
       "2  8  183  64   0    0  23.3  0.672  32  1\n",
       "3  1   89  66  23   94  28.1  0.167  21  0\n",
       "4  0  137  40  35  168  43.1  2.288  33  1"
      ]
     },
     "execution_count": 83,
     "metadata": {},
     "output_type": "execute_result"
    }
   ],
   "source": [
    "df = pd.read_csv('pima-indians-diabetes.csv',header=None)\n",
    "dataset = df.values\n",
    "df.head()"
   ]
  },
  {
   "cell_type": "markdown",
   "metadata": {},
   "source": [
    "As you can see above, the data consists of eight features and a binary classification. "
   ]
  },
  {
   "cell_type": "code",
   "execution_count": 84,
   "metadata": {
    "collapsed": false
   },
   "outputs": [],
   "source": [
    "# Split the dataset into input and output\n",
    "X = dataset[:,0:-1]\n",
    "Y = dataset[:,-1]\n",
    "\n",
    "# Split the input and output into training and testing\n",
    "X_train, X_test, Y_train, Y_test = train_test_split(X,Y,test_size=0.33)"
   ]
  },
  {
   "cell_type": "markdown",
   "metadata": {},
   "source": [
    "## 2. Get mean and std of features\n",
    "We begin by getting the distribution for each feature based on the output. This is the likelihood or P(data | hypothesis). "
   ]
  },
  {
   "cell_type": "code",
   "execution_count": 90,
   "metadata": {
    "collapsed": false
   },
   "outputs": [
    {
     "name": "stdout",
     "output_type": "stream",
     "text": [
      "[[  3.94941634 122.10894942  68.82684825  21.00583658  81.69455253\n",
      "   31.98929961   0.4639572   33.71011673]\n",
      " [  3.38015634  31.63200058  19.81998704  16.24789615 116.42010207\n",
      "    7.81624955   0.3172406   11.81700675]]\n"
     ]
    }
   ],
   "source": [
    "# define arrays for positive for diabetes (1) and negative (0)\n",
    "pos_meanstd = np.zeros((2,8))\n",
    "neg_meanstd = np.zeros((2,8))\n",
    "meanstd = np.zeros((2,8))\n",
    "\n",
    "pos_xtrain = X_train[np.where(Y_train==1)[0],:]\n",
    "neg_xtrain = X_train[np.where(Y_train==0)[0],:]\n",
    "\n",
    "for i in np.arange(0,np.size(pos_xtrain,1)):\n",
    "    pos_meanstd[0,i] = np.mean(pos_xtrain[:,i])\n",
    "    pos_meanstd[1,i] = np.std(pos_xtrain[:,i])\n",
    "    neg_meanstd[0,i] = np.mean(neg_xtrain[:,i])\n",
    "    neg_meanstd[1,i] = np.std(neg_xtrain[:,i])\n",
    "    meanstd[0,i] = np.mean(X_train[:,i])\n",
    "    meanstd[1,i] = np.std(X_train[:,i])\n",
    "print(meanstd)"
   ]
  },
  {
   "cell_type": "code",
   "execution_count": 86,
   "metadata": {
    "collapsed": false
   },
   "outputs": [
    {
     "data": {
      "text/plain": [
       "<matplotlib.legend.Legend at 0x2a3848deb00>"
      ]
     },
     "execution_count": 86,
     "metadata": {},
     "output_type": "execute_result"
    },
    {
     "data": {
      "image/png": "[encoded data removed]",
      "text/plain": [
       "<Figure size 720x504 with 1 Axes>"
      ]
     },
     "metadata": {},
     "output_type": "display_data"
    }
   ],
   "source": [
    "# Visualize\n",
    "plt.figure(figsize=(10,7))\n",
    "plt.bar(np.arange(1,9)-0.2,pos_meanstd[0,:],width=0.4,yerr=pos_meanstd[1,:],label='diabetes')\n",
    "plt.bar(np.arange(1,9)+0.2,neg_meanstd[0,:],width=0.4,yerr=neg_meanstd[1,:],label='not diabetes')\n",
    "plt.legend()"
   ]
  },
  {
   "cell_type": "markdown",
   "metadata": {},
   "source": [
    "## 3. Make Predictions\n",
    "\n",
    "Now that we know the pdf of each feature, we can calculate the probability that a given feature belongs to the positive or negative class."
   ]
  },
  {
   "cell_type": "code",
   "execution_count": 87,
   "metadata": {
    "collapsed": false
   },
   "outputs": [
    {
     "data": {
      "text/plain": [
       "0.06664492057835994"
      ]
     },
     "execution_count": 87,
     "metadata": {},
     "output_type": "execute_result"
    }
   ],
   "source": [
    "import math\n",
    "# This function defines the gaussian pdf and calculates the probability of x belonging to a particular distribution\n",
    "def calculateProbability(x, mean, stdev):\n",
    "    exponent = math.exp(-(math.pow(x-mean,2)/(2*math.pow(stdev,2))))\n",
    "    return (1 / (math.sqrt(2*math.pi) * stdev)) * exponent\n",
    "\n",
    "# for example\n",
    "calculateProbability(x=-3,mean=0,stdev=5)"
   ]
  },
  {
   "cell_type": "markdown",
   "metadata": {},
   "source": [
    "So we need to calculate the probability that each feature belongs to the positive or negative class.\n",
    "We can then multiply the probabilities for each feature together because we assume they are independent of one another (not actually the case). \n",
    "We will end up with two probabilities, one for each class, and assign the example to the higher probability."
   ]
  },
  {
   "cell_type": "code",
   "execution_count": 124,
   "metadata": {
    "collapsed": false
   },
   "outputs": [],
   "source": [
    "prior = [len(pos_xtrain)/len(X_train), len(neg_xtrain)/len(X_train)] #prior\n",
    "\n",
    "def getPosteriorprob(X,prior,meanarr1,meanarr2):\n",
    "    X_lhood = np.zeros((np.size(X,0),2)) #likelihood\n",
    "    X_evdnce = np.zeros((np.size(X,0),1)) #evidence\n",
    "    X_post = np.zeros((np.size(X,0),2)) #posterior\n",
    "    \n",
    "    for i in np.arange(0,np.size(X,0)): # for all the examples\n",
    "        predpos = 1\n",
    "        predneg = 1\n",
    "    \n",
    "        for j in np.arange(0,np.size(X,1)): # for all features\n",
    "            predpos = predpos * calculateProbability(X[i,j],meanarr1[0,j],meanarr1[1,j])\n",
    "            predneg = predneg * calculateProbability(X[i,j],meanarr2[0,j],meanarr2[1,j])\n",
    "        \n",
    "        X_lhood[i,0] = predpos # probability that example is positive\n",
    "        X_lhood[i,1] = predneg # probability that example is negative\n",
    "    \n",
    "        X_evdnce[i,0] = predpos*prior[0] + predneg*prior[1] # evidence\n",
    "    \n",
    "        X_post[i,0] = prior[0]*X_lhood[i,0]/X_evdnce[i,0] # posterior for positive\n",
    "        X_post[i,1] = prior[1]*X_lhood[i,1]/X_evdnce[i,0] # posterior for negative\n",
    "    return X_post\n",
    "\n",
    "\n",
    "X_train_post = getPosteriorprob(X_train,prior,pos_meanstd,neg_meanstd)\n",
    "X_test_post = getPosteriorprob(X_test,prior,pos_meanstd,neg_meanstd)"
   ]
  },
  {
   "cell_type": "markdown",
   "metadata": {},
   "source": [
    "Now we simply assign a prediction to the higher probability. This is called the Maximum a posteriori (MAP) estimate."
   ]
  },
  {
   "cell_type": "code",
   "execution_count": 140,
   "metadata": {
    "collapsed": false
   },
   "outputs": [],
   "source": [
    "Y_train_pred = np.zeros((np.size(X_train_post,0),))\n",
    "Y_test_pred = np.zeros((np.size(X_test_post,0),))\n",
    "\n",
    "def classify(Xmat):\n",
    "    Y = np.zeros((np.size(Xmat,0),))\n",
    "    \n",
    "    for i in np.arange(0,np.size(Xmat,0)):\n",
    "        if Xmat[i,0] > Xmat[i,1]:\n",
    "            Y[i] = 1\n",
    "        else:\n",
    "            Y[i] = 0\n",
    "    return Y\n",
    "\n",
    "Y_train_pred = classify(X_train_post)\n",
    "Y_test_pred = classify(X_test_post)"
   ]
  },
  {
   "cell_type": "code",
   "execution_count": 141,
   "metadata": {
    "collapsed": false
   },
   "outputs": [
    {
     "name": "stdout",
     "output_type": "stream",
     "text": [
      "training accuracy:  0.7431906614785992\n",
      "testing accuracy:  0.7834645669291339\n"
     ]
    }
   ],
   "source": [
    "print(\"training accuracy: \",len(np.where(Y_train_pred==Y_train)[0])/len(Y_train))\n",
    "print(\"testing accuracy: \",len(np.where(Y_test_pred==Y_test)[0])/len(Y_test))"
   ]
  },
  {
   "cell_type": "markdown",
   "metadata": {},
   "source": [
    "## 4. Examine data more closely\n",
    "The classification was better than chance but not great. Let's look at the data to see why this might be. "
   ]
  },
  {
   "cell_type": "markdown",
   "metadata": {},
   "source": [
    "#### Assumption 1: Normality. We assumed at the onset that the features were normally distributed. Let's plot histograms to see if this is the case."
   ]
  },
  {
   "cell_type": "code",
   "execution_count": 144,
   "metadata": {
    "collapsed": false
   },
   "outputs": [
    {
     "data": {
      "image/png": "[encoded data removed]",
      "text/plain": [
       "<Figure size 432x288 with 8 Axes>"
      ]
     },
     "metadata": {},
     "output_type": "display_data"
    }
   ],
   "source": [
    "for i in np.arange(0,8):\n",
    "    plt.subplot(4,2,i+1)\n",
    "    plt.hist(X[:,i],bins=20)\n"
   ]
  },
  {
   "cell_type": "markdown",
   "metadata": {},
   "source": [
    "Clearly most of the features are far from being normally distributed. "
   ]
  },
  {
   "cell_type": "code",
   "execution_count": 148,
   "metadata": {
    "collapsed": false
   },
   "outputs": [
    {
     "data": {
      "text/plain": [
       "<matplotlib.colorbar.Colorbar at 0x2a385ed3400>"
      ]
     },
     "execution_count": 148,
     "metadata": {},
     "output_type": "execute_result"
    },
    {
     "data": {
      "image/png": "[encoded data removed]",
      "text/plain": [
       "<Figure size 432x288 with 2 Axes>"
      ]
     },
     "metadata": {},
     "output_type": "display_data"
    }
   ],
   "source": [
    "fig = plt.figure()\n",
    "ax = plt.subplot(111)\n",
    "cax=ax.matshow(df.corr())\n",
    "fig.colorbar(cax)"
   ]
  },
  {
   "cell_type": "markdown",
   "metadata": {},
   "source": [
    "It also looks like the independence assumption is probably wrong too since many of the variables interact with one another. (For example features 0 and 7)"
   ]
  },
  {
   "cell_type": "code",
   "execution_count": null,
   "metadata": {
    "collapsed": true
   },
   "outputs": [],
   "source": []
  }
 ],
 "metadata": {
  "kernelspec": {
   "display_name": "Python 3",
   "language": "python",
   "name": "python3"
  },
  "language_info": {
   "codemirror_mode": {
    "name": "ipython",
    "version": 3
   },
   "file_extension": ".py",
   "mimetype": "text/x-python",
   "name": "python",
   "nbconvert_exporter": "python",
   "pygments_lexer": "ipython3",
   "version": "3.5.5"
  }
 },
 "nbformat": 4,
 "nbformat_minor": 2
}
