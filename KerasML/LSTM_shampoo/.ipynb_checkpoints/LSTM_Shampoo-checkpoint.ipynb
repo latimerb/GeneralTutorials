{
 "cells": [
  {
   "cell_type": "markdown",
   "metadata": {},
   "source": [
    "# Long Short Term Memory (Recurrent Neural Network)\n",
    "### Making predictions in a time series\n",
    "#### Based on https://machinelearningmastery.com/multi-step-time-series-forecasting-long-short-term-memory-networks-python/"
   ]
  },
  {
   "cell_type": "markdown",
   "metadata": {},
   "source": [
    "### 1) Load Data"
   ]
  },
  {
   "cell_type": "code",
   "execution_count": 1,
   "metadata": {
    "collapsed": false
   },
   "outputs": [
    {
     "name": "stdout",
     "output_type": "stream",
     "text": [
      "Month\n",
      "1-01    266.0\n",
      "1-02    145.9\n",
      "1-03    183.1\n",
      "1-04    119.3\n",
      "1-05    180.3\n",
      "Name: Sales of shampoo over a three year period, dtype: float64\n"
     ]
    },
    {
     "data": {
      "text/plain": [
       "[<matplotlib.lines.Line2D at 0x214e8519080>]"
      ]
     },
     "execution_count": 1,
     "metadata": {},
     "output_type": "execute_result"
    }
   ],
   "source": [
    "from pandas import read_csv\n",
    "from pandas import datetime\n",
    "import matplotlib.pyplot as plt\n",
    "import numpy as np\n",
    "import pdb\n",
    "\n",
    "series = read_csv('shampoo-sales.csv', header=0, parse_dates=[0], index_col=0, squeeze=True)\n",
    "series_values = series.values\n",
    "# summarize first few rows\n",
    "print(series.head())\n",
    "\n",
    "plt.plot(series_values)"
   ]
  },
  {
   "cell_type": "markdown",
   "metadata": {},
   "source": [
    "### 2) Train/test split and building dataset\n",
    "\n",
    "We will use the first two years (data points 1-24) as training and the last year (data points 25-36) as testing. We need to make a three month forecast for every month in the dataset. To do this, we will make the data into an nx4 matrix for supervised learning."
   ]
  },
  {
   "cell_type": "code",
   "execution_count": 33,
   "metadata": {
    "collapsed": false
   },
   "outputs": [],
   "source": [
    "look_ahead = 3\n",
    "\n",
    "train_test = np.zeros((series_values.shape[0]-look_ahead-1,1+look_ahead))\n",
    "train = np.zeros((23,1+look_ahead))\n",
    "test = np.zeros((10,1+look_ahead))\n",
    "\n",
    "def series_to_supervised(raw, forecast):\n",
    "    for i in range(0,raw.shape[0]-forecast-1):\n",
    "        train_test[i,0:forecast+1] = raw[i:i+forecast+1]\n",
    "    return train_test\n",
    "\n",
    "train_test = series_to_supervised(series_values, forecast=look_ahead)\n",
    "train = train_test[0:23,:]\n",
    "test = train_test[23:33,:]"
   ]
  },
  {
   "cell_type": "markdown",
   "metadata": {
    "collapsed": true
   },
   "source": [
    "### 3) Prepare the data for LSTM\n",
    "\n",
    "It needs to be stationary (meaning we remove the long-term upward trend). It also needs to have values between -1 and 1.\n"
   ]
  },
  {
   "cell_type": "code",
   "execution_count": 35,
   "metadata": {
    "collapsed": true
   },
   "outputs": [],
   "source": [
    "def difference(dataset, interval=1):\n",
    "    diff = list()\n",
    "    for i in range(interval, len(dataset)):\n",
    "        value = dataset[i] - dataset[i - interval]\n",
    "        diff.append(value)\n",
    "    return Series(diff)"
   ]
  },
  {
   "cell_type": "code",
   "execution_count": null,
   "metadata": {
    "collapsed": true
   },
   "outputs": [],
   "source": []
  }
 ],
 "metadata": {
  "kernelspec": {
   "display_name": "Python 3",
   "language": "python",
   "name": "python3"
  },
  "language_info": {
   "codemirror_mode": {
    "name": "ipython",
    "version": 3
   },
   "file_extension": ".py",
   "mimetype": "text/x-python",
   "name": "python",
   "nbconvert_exporter": "python",
   "pygments_lexer": "ipython3",
   "version": "3.5.5"
  }
 },
 "nbformat": 4,
 "nbformat_minor": 2
}
